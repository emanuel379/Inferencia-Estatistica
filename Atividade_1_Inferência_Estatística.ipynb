{
  "nbformat": 4,
  "nbformat_minor": 0,
  "metadata": {
    "colab": {
      "provenance": []
    },
    "kernelspec": {
      "name": "python3",
      "display_name": "Python 3"
    },
    "language_info": {
      "name": "python"
    }
  },
  "cells": [
    {
      "cell_type": "markdown",
      "source": [
        "Nome: Emanuel Victor da Silva Favorato\n",
        "\n",
        "Número USP: 12558151"
      ],
      "metadata": {
        "id": "BXv11w7EO4H0"
      }
    },
    {
      "cell_type": "code",
      "execution_count": null,
      "metadata": {
        "id": "fedlfUiFTVo-",
        "colab": {
          "base_uri": "https://localhost:8080/"
        },
        "outputId": "0be2a3ce-a9cf-470b-a9a7-df93d717da31"
      },
      "outputs": [
        {
          "output_type": "stream",
          "name": "stdout",
          "text": [
            "[1, 1, 1, 1, 1, 1, 1, 1, 1, 1, 1, 1, 1, 1, 2, 2, 2, 2, 2, 2, 2, 3, 3, 3, 3, 3, 3, 3, 3, 3, 3, 3, 4, 4, 4, 4, 4, 4, 4, 4, 5, 5, 5, 6, 7, 7, 7, 9, 9, 10]\n"
          ]
        }
      ],
      "source": [
        "# a\n",
        "\n",
        "# Ry => 1\n",
        "# Y ~ Geom(p)\n",
        "\n",
        "# fmp = p*(1 - p)**(y - 1)\n",
        "\n",
        "# Construindo nosso roll( dados da nossa amostra coletados de forma ordenada da nossa variável aleatória)\n",
        "roll = [1]*14 + [2]*7 + [3]*11 + [4]*8 + [5]*3 + [6] + [7]*3 + [9]*2 + [10]\n",
        "\n",
        "print(roll) # Printando nosso conjunto de dados\n"
      ]
    },
    {
      "cell_type": "code",
      "source": [
        "# b\n",
        "\n",
        "# E(Y) = 1/p\n",
        "# primeiro momento amostral(m1) = média amostral\n",
        "# Igualando o primeiro momento amostral e o primeiro momento populacional, temos que p = 1/m1\n",
        "\n",
        "import statistics\n",
        "\n",
        "# Vamos obter uma estimativa para m1\n",
        "\n",
        "n = len(roll) # Tamanho da amostra\n",
        "\n",
        "m1 = statistics.mean(roll) # primeiro momento amostral\n",
        "\n",
        "round(m1, 2) # Mostrando a estimativa para a média amostral(primeiro momento amostral)"
      ],
      "metadata": {
        "colab": {
          "base_uri": "https://localhost:8080/"
        },
        "id": "0UlmUmgwO2YU",
        "outputId": "4f03c140-36a6-471f-9489-c098f7a5dfee"
      },
      "execution_count": null,
      "outputs": [
        {
          "output_type": "execute_result",
          "data": {
            "text/plain": [
              "3.26"
            ]
          },
          "metadata": {},
          "execution_count": 9
        }
      ]
    },
    {
      "cell_type": "code",
      "source": [
        "# Calculando o estimador de p\n",
        "\n",
        "p = 1 /m1\n",
        "\n",
        "# Mostrando a estimativa para p com quatro casas decimais\n",
        "\n",
        "round(p, 4)"
      ],
      "metadata": {
        "colab": {
          "base_uri": "https://localhost:8080/"
        },
        "id": "fUv3i8YAPS71",
        "outputId": "e9d706ce-b2db-43a5-aad7-60f3bde285a8"
      },
      "execution_count": null,
      "outputs": [
        {
          "output_type": "execute_result",
          "data": {
            "text/plain": [
              "0.3067"
            ]
          },
          "metadata": {},
          "execution_count": 11
        }
      ]
    }
  ]
}