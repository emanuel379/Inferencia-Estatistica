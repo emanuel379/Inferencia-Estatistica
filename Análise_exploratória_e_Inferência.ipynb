{
  "nbformat": 4,
  "nbformat_minor": 0,
  "metadata": {
    "colab": {
      "provenance": [],
      "authorship_tag": "ABX9TyP7rpP4W+UfZqaeTHEZX+JX",
      "include_colab_link": true
    },
    "kernelspec": {
      "name": "python3",
      "display_name": "Python 3"
    },
    "language_info": {
      "name": "python"
    }
  },
  "cells": [
    {
      "cell_type": "markdown",
      "metadata": {
        "id": "view-in-github",
        "colab_type": "text"
      },
      "source": [
        "<a href=\"https://colab.research.google.com/github/emanuel379/Inferencia-Estatistica/blob/main/An%C3%A1lise_explorat%C3%B3ria_e_Infer%C3%AAncia.ipynb\" target=\"_parent\"><img src=\"https://colab.research.google.com/assets/colab-badge.svg\" alt=\"Open In Colab\"/></a>"
      ]
    },
    {
      "cell_type": "code",
      "source": [
        "import pandas as pd\n",
        "import numpy as np\n",
        "from scipy.stats import norm\n",
        "import matplotlib.pyplot as plt\n",
        "%matplotlib inline"
      ],
      "metadata": {
        "id": "VZ3SFYwewAzG"
      },
      "execution_count": null,
      "outputs": []
    },
    {
      "cell_type": "code",
      "execution_count": null,
      "metadata": {
        "id": "DpJmBoZu7wiZ"
      },
      "outputs": [],
      "source": [
        "# Selecionando uma amostra com python\n",
        "\n",
        "data = pd.DataFrame() # Criando um DataFrame\n",
        "data['Population'] = [21, 22, 24, 36, 38, 49, 57, 65, 80, 90, 94]\n",
        "\n",
        "amostragem_sem_repetição = data['Population'].sample(5, replace = False) # Retirando uma amostra de cinco indivíduos sem reposição\n",
        "amostragem_com_repetição = data['Population'].sample(5, replace = True) # Retirando uma amostra de cinco indivíduos com reposição"
      ]
    },
    {
      "cell_type": "code",
      "source": [
        "# Observando as amostras coletadas\n",
        "print(amostragem_sem_repetição)\n",
        "print(amostragem_com_repetição)"
      ],
      "metadata": {
        "colab": {
          "base_uri": "https://localhost:8080/"
        },
        "id": "-MZvjXCp98ZG",
        "outputId": "a99c48d8-da08-45eb-9db9-2752b80f00b0"
      },
      "execution_count": null,
      "outputs": [
        {
          "output_type": "stream",
          "name": "stdout",
          "text": [
            "7     65\n",
            "9     90\n",
            "10    94\n",
            "4     38\n",
            "3     36\n",
            "Name: Population, dtype: int64\n",
            "0     21\n",
            "6     57\n",
            "10    94\n",
            "7     65\n",
            "4     38\n",
            "Name: Population, dtype: int64\n"
          ]
        }
      ]
    },
    {
      "cell_type": "code",
      "source": [
        "# Calculando média, variância e desvio padrão da população\n",
        "\n",
        "population_mean = data['Population'].mean()\n",
        "population_var = data['Population'].var(ddof=0) # ddof= 0 significa que o denominador é o próprio n\n",
        "population_std = data['Population'].std(ddof=0)\n",
        "print('Population mean is ', population_mean)\n",
        "print('Population variance is', population_var)\n",
        "print('Population variance is', population_std)"
      ],
      "metadata": {
        "colab": {
          "base_uri": "https://localhost:8080/"
        },
        "id": "m4NN4ch_FC0R",
        "outputId": "270310ec-7a51-413f-ab0b-401c53d9563b"
      },
      "execution_count": null,
      "outputs": [
        {
          "output_type": "stream",
          "name": "stdout",
          "text": [
            "Population mean is  52.36363636363637\n",
            "Population variance is 662.7768595041322\n",
            "Population variance is 25.74445298514094\n"
          ]
        }
      ]
    },
    {
      "cell_type": "code",
      "source": [
        "# Calculando média e variância de uma amostra aleatória com reposição e com n = 10\n",
        "\n",
        "amostra = data['Population'].sample(10, replace=True)\n",
        "sample_mean = amostra.mean()\n",
        "sample_var = amostra.var(ddof = 1) # ddof= 1 significa que o denominador é n - 1\n",
        "sample_std = amostra.std(ddof = 1)\n",
        "print('Sample mean is ', sample_mean)\n",
        "print('Sample variance is', sample_var)\n",
        "print('Sample variance is', sample_std)"
      ],
      "metadata": {
        "colab": {
          "base_uri": "https://localhost:8080/"
        },
        "id": "44CgDPb_FZNk",
        "outputId": "be6cc1eb-a1f4-4214-847b-9a1b3a9c33f8"
      },
      "execution_count": null,
      "outputs": [
        {
          "output_type": "stream",
          "name": "stdout",
          "text": [
            "Sample mean is  52.1\n",
            "Sample variance is 786.5444444444445\n",
            "Sample variance is 28.045399701991137\n"
          ]
        }
      ]
    },
    {
      "cell_type": "code",
      "source": [
        "# Extraindo uma coleção de valores para a variância amostral\n",
        "\n",
        "sample_length = 500\n",
        "sample_variance_collection = [data['Population'].sample(10, replace=True).var(ddof=1) for i in range(sample_length)]\n",
        "print(sample_variance_collection)"
      ],
      "metadata": {
        "colab": {
          "base_uri": "https://localhost:8080/"
        },
        "id": "BLMEgUQoIHOA",
        "outputId": "b15a675b-8b3f-4873-a5e9-e4b62443a7b6"
      },
      "execution_count": null,
      "outputs": [
        {
          "output_type": "stream",
          "name": "stdout",
          "text": [
            "[491.4333333333333, 562.0444444444444, 642.5444444444444, 877.1222222222223, 573.7777777777778, 803.7888888888889, 405.9555555555556, 438.9888888888888, 564.2222222222222, 886.0444444444444, 799.6555555555556, 897.7333333333335, 802.6222222222221, 962.8444444444444, 616.6222222222223, 733.5999999999999, 480.6666666666667, 578.2222222222222, 621.3444444444444, 982.0999999999999, 886.0111111111112, 856.4555555555556, 593.3444444444444, 1103.8222222222223, 418.9888888888888, 633.3777777777777, 950.4555555555556, 324.67777777777775, 533.7888888888888, 704.4444444444445, 814.5, 287.15555555555557, 1092.0444444444443, 890.0, 611.4333333333333, 515.7888888888888, 494.0, 741.8222222222223, 840.9, 284.7111111111111, 765.8777777777777, 661.1222222222223, 831.9555555555555, 201.2888888888889, 636.9333333333333, 614.5, 272.44444444444446, 560.6222222222223, 648.9444444444445, 795.5666666666667, 545.3777777777777, 366.67777777777775, 338.0444444444445, 511.9555555555555, 824.1, 961.7333333333333, 845.5999999999999, 712.7666666666667, 595.7333333333332, 606.8444444444444, 156.22222222222223, 549.7777777777778, 893.7777777777778, 758.0999999999999, 731.1555555555556, 772.6777777777777, 481.1666666666667, 833.2888888888889, 868.3222222222222, 607.3444444444444, 1212.2222222222222, 466.1777777777777, 518.8444444444444, 1066.6666666666667, 565.5999999999999, 453.65555555555557, 207.95555555555555, 614.3222222222222, 907.8777777777777, 984.8444444444444, 820.2333333333333, 761.9555555555556, 479.6555555555555, 698.4444444444445, 657.0666666666666, 926.9444444444445, 695.3777777777779, 505.55555555555554, 784.8444444444444, 892.2666666666668, 778.3222222222222, 527.4333333333333, 615.8222222222223, 647.3777777777779, 754.2666666666668, 899.3777777777779, 770.3222222222223, 770.0444444444444, 442.9333333333334, 876.4000000000001, 864.7111111111112, 927.6555555555556, 644.1777777777777, 868.4, 629.3888888888889, 623.7333333333332, 511.3444444444444, 639.5999999999999, 684.4444444444445, 813.8222222222223, 591.1222222222223, 735.3444444444444, 363.3444444444445, 1214.4, 731.7888888888889, 248.23333333333326, 591.4333333333333, 598.0, 620.3222222222222, 651.1555555555555, 783.1666666666666, 497.3444444444444, 688.7666666666667, 807.2888888888888, 627.1555555555556, 295.9555555555556, 519.3777777777779, 1070.888888888889, 548.9888888888889, 703.8222222222224, 682.7666666666667, 721.1555555555556, 638.1777777777778, 730.6666666666666, 267.8222222222222, 692.6666666666666, 836.3222222222221, 696.9000000000001, 615.5999999999999, 422.5, 444.7111111111111, 809.2111111111111, 862.4888888888889, 834.2666666666667, 712.6222222222221, 541.5666666666666, 793.3333333333334, 655.7333333333333, 556.6777777777777, 681.6555555555556, 960.6666666666666, 702.2777777777778, 574.0111111111112, 914.4555555555554, 822.0111111111112, 914.0444444444444, 661.2888888888889, 734.1777777777778, 845.4333333333334, 565.5111111111112, 670.2666666666667, 955.7888888888889, 320.4555555555556, 713.5666666666666, 578.0999999999999, 609.8333333333334, 577.8333333333334, 606.3222222222222, 487.78888888888895, 611.5666666666667, 970.7666666666669, 259.9555555555555, 205.56666666666666, 564.6666666666666, 775.1666666666666, 648.4888888888889, 661.5111111111112, 687.2111111111112, 577.3333333333334, 533.7333333333333, 788.2777777777778, 607.9555555555556, 497.55555555555554, 337.8777777777778, 791.0666666666666, 784.8444444444444, 703.9555555555556, 511.21111111111117, 579.1111111111111, 435.15555555555557, 774.7111111111112, 799.7888888888889, 803.3777777777779, 932.0555555555555, 559.7333333333332, 1061.822222222222, 732.7111111111112, 744.7666666666667, 477.1111111111111, 701.8777777777776, 781.5111111111112, 390.62222222222215, 897.1555555555556, 429.7888888888889, 987.4333333333333, 665.2111111111112, 518.0999999999999, 754.4444444444445, 632.5444444444444, 909.1555555555556, 617.1222222222223, 859.5111111111112, 1002.2777777777778, 719.7333333333333, 747.2888888888888, 148.6777777777778, 943.9555555555556, 521.8777777777779, 892.9888888888889, 829.8222222222223, 782.4555555555556, 576.8444444444444, 369.34444444444443, 374.5444444444444, 599.6555555555556, 550.5444444444444, 715.3888888888889, 815.2111111111111, 820.5444444444444, 124.5, 697.8222222222222, 834.2222222222222, 539.7333333333333, 238.05555555555554, 670.9888888888889, 1197.1555555555558, 642.2333333333333, 1119.9555555555555, 664.6222222222221, 722.8444444444444, 691.7333333333332, 443.9555555555555, 990.8888888888889, 496.22222222222223, 705.5999999999999, 636.3222222222222, 822.9333333333334, 539.0666666666667, 818.5444444444445, 564.5, 872.1777777777777, 801.7333333333332, 631.7333333333332, 940.9333333333333, 678.7111111111111, 564.8444444444444, 754.0444444444444, 831.0666666666667, 794.9000000000001, 590.4555555555556, 570.7666666666667, 637.9555555555556, 454.94444444444446, 474.3222222222223, 499.3444444444444, 508.8444444444444, 567.3777777777777, 844.2666666666667, 693.5111111111112, 535.5999999999999, 756.9444444444445, 1005.8222222222222, 353.12222222222226, 533.9555555555555, 334.9, 739.8333333333334, 751.0666666666667, 889.6555555555556, 724.6777777777778, 596.8888888888889, 527.8222222222222, 670.7111111111112, 682.0111111111111, 959.9555555555554, 419.1555555555555, 897.7333333333333, 813.5111111111111, 371.7888888888889, 866.7222222222222, 730.2333333333332, 860.6777777777777, 770.6777777777778, 639.5999999999999, 728.4888888888888, 801.6555555555556, 965.5111111111112, 894.6777777777778, 953.5666666666667, 425.55555555555554, 770.4, 948.4555555555556, 567.1222222222221, 487.1666666666667, 739.1222222222223, 1055.0666666666666, 270.4555555555555, 518.0111111111111, 807.8777777777777, 524.7666666666667, 644.4, 796.9000000000001, 534.2333333333333, 557.8777777777779, 424.5444444444445, 415.5666666666666, 655.5555555555555, 876.4888888888888, 595.2111111111112, 752.4888888888888, 482.23333333333335, 503.1111111111111, 762.9888888888889, 526.8444444444444, 667.8777777777777, 601.1222222222223, 707.3333333333334, 711.7333333333333, 282.93333333333334, 917.6111111111111, 712.3222222222222, 460.1777777777778, 897.3444444444444, 879.9555555555555, 991.7888888888888, 477.5666666666667, 932.0444444444446, 823.3888888888889, 226.1777777777778, 386.23333333333335, 701.6, 733.7888888888889, 749.1111111111111, 983.8222222222222, 579.7333333333332, 916.0444444444444, 724.4444444444445, 692.4444444444445, 624.4888888888888, 728.6222222222223, 754.9888888888889, 311.15555555555557, 925.1555555555553, 559.9555555555556, 858.6222222222223, 461.0666666666666, 354.17777777777775, 452.71111111111105, 474.0444444444445, 485.8222222222222, 549.2888888888889, 133.2111111111111, 497.3444444444445, 437.34444444444443, 839.6111111111111, 638.7222222222222, 575.1222222222221, 686.9444444444445, 582.5444444444445, 1036.0555555555557, 1139.1555555555556, 816.7666666666667, 953.2111111111109, 726.2777777777778, 357.1222222222222, 496.6777777777777, 519.8222222222222, 743.6111111111111, 545.6555555555556, 586.0444444444444, 426.9333333333334, 681.9555555555555, 553.4333333333333, 1090.6222222222223, 228.0, 588.3222222222223, 928.0, 804.9333333333333, 515.5999999999999, 640.7111111111112, 610.9888888888888, 800.6666666666666, 866.7222222222222, 144.23333333333332, 765.7888888888889, 733.0666666666667, 915.5666666666667, 490.9333333333333, 186.9888888888889, 594.6222222222224, 648.7666666666668, 508.5444444444445, 961.8777777777777, 674.0444444444445, 768.6777777777778, 794.4555555555555, 398.5444444444445, 561.8777777777777, 595.8222222222223, 544.8444444444444, 652.5, 577.0666666666666, 689.8222222222223, 79.15555555555554, 200.93333333333328, 405.1111111111111, 361.51111111111106, 728.4555555555555, 879.3777777777779, 679.8777777777777, 663.3777777777777, 689.3888888888889, 258.44444444444446, 358.94444444444446, 762.2666666666667, 886.0444444444444, 574.0, 700.5444444444444, 593.6555555555556, 341.78888888888895, 872.8444444444444, 757.2111111111112, 1061.288888888889, 280.9, 727.9555555555555, 835.8777777777777, 634.4888888888888, 249.56666666666672, 872.3222222222223, 389.1666666666667, 687.8777777777777, 393.2111111111111, 599.7333333333332, 978.9333333333333, 1009.5999999999999, 699.5111111111111, 521.3444444444444, 396.5444444444445, 561.3777777777777, 605.5999999999999, 756.2333333333333, 496.40000000000003, 376.0111111111112, 369.1111111111111, 966.8888888888889, 416.1, 713.5111111111111, 735.7888888888889, 774.2777777777778, 573.1111111111111, 808.7222222222222, 516.0444444444445, 633.3333333333334, 382.3222222222222, 620.9888888888889, 433.1222222222222, 731.8777777777779, 502.5444444444444, 589.6555555555556, 693.0666666666667, 786.0111111111112, 635.1111111111111, 714.9000000000001, 734.7666666666667, 987.1555555555556, 554.7666666666667, 498.90000000000003, 505.21111111111105, 238.76666666666668, 677.5999999999999, 299.5111111111112, 449.43333333333334, 858.2666666666667, 189.95555555555555, 434.05555555555554, 828.0444444444446, 648.5, 798.7222222222222, 820.9333333333334, 629.6555555555556, 644.0, 502.23333333333335, 666.2666666666667, 750.4888888888888, 787.3888888888889, 501.5111111111112, 760.1777777777778, 534.8888888888889, 548.4000000000001, 515.5666666666666, 246.5444444444444]\n"
          ]
        }
      ]
    },
    {
      "cell_type": "code",
      "source": [
        "# Criando novas amostras aleatórias com distribuição normal cada vez que o código roda\n",
        "\n",
        "Fstsample = pd.DataFrame(np.random.normal(10, 5, size=30))\n",
        "print('sample mean is ', Fstsample[0].mean())\n",
        "print('sample SD is ', Fstsample[0].std(ddof=1))"
      ],
      "metadata": {
        "colab": {
          "base_uri": "https://localhost:8080/"
        },
        "id": "xNYEuitAIyk8",
        "outputId": "b9f7e127-43a4-4444-dc39-c933596bfc52"
      },
      "execution_count": null,
      "outputs": [
        {
          "output_type": "stream",
          "name": "stdout",
          "text": [
            "sample mean is  8.22134007981976\n",
            "sample SD is  3.761459076608022\n"
          ]
        }
      ]
    },
    {
      "cell_type": "code",
      "source": [
        "# Criando uma lista para armazenar as médias e variâncias das amostras\n",
        "\n",
        "meanlist = []\n",
        "varlist = []\n",
        "for t in range(100000):\n",
        "    sample = pd.DataFrame(np.random.normal(10, 5, size=30))\n",
        "    meanlist.append(sample[0].mean())\n",
        "    varlist.append(sample[0].mean())"
      ],
      "metadata": {
        "id": "IPMuAd2-wTtF"
      },
      "execution_count": null,
      "outputs": []
    },
    {
      "cell_type": "code",
      "source": [
        "# Armazenando nossas listas em uma colunas do nosso DataFrame\n",
        "\n",
        "collection = pd.DataFrame()\n",
        "collection['meanlist'] = meanlist\n",
        "collection['varlist'] = varlist"
      ],
      "metadata": {
        "id": "-zA8T5Cgw7yu"
      },
      "execution_count": null,
      "outputs": []
    },
    {
      "cell_type": "code",
      "source": [
        "# Plotando um histograma das médias\n",
        "\n",
        "collection['meanlist'].hist(bins=100, normed=1,figsize=(15,8))"
      ],
      "metadata": {
        "colab": {
          "base_uri": "https://localhost:8080/",
          "height": 992
        },
        "id": "sxXel4dHxUz0",
        "outputId": "d840ff6f-f216-4ce6-8cdb-cb0c2d251a80"
      },
      "execution_count": null,
      "outputs": [
        {
          "output_type": "error",
          "ename": "AttributeError",
          "evalue": "Rectangle.set() got an unexpected keyword argument 'normed'",
          "traceback": [
            "\u001b[0;31m---------------------------------------------------------------------------\u001b[0m",
            "\u001b[0;31mAttributeError\u001b[0m                            Traceback (most recent call last)",
            "\u001b[0;32m<ipython-input-10-b13ed2ad8a1b>\u001b[0m in \u001b[0;36m<cell line: 3>\u001b[0;34m()\u001b[0m\n\u001b[1;32m      1\u001b[0m \u001b[0;31m# Plotando um histograma das médias\u001b[0m\u001b[0;34m\u001b[0m\u001b[0;34m\u001b[0m\u001b[0m\n\u001b[1;32m      2\u001b[0m \u001b[0;34m\u001b[0m\u001b[0m\n\u001b[0;32m----> 3\u001b[0;31m \u001b[0mcollection\u001b[0m\u001b[0;34m[\u001b[0m\u001b[0;34m'meanlist'\u001b[0m\u001b[0;34m]\u001b[0m\u001b[0;34m.\u001b[0m\u001b[0mhist\u001b[0m\u001b[0;34m(\u001b[0m\u001b[0mbins\u001b[0m\u001b[0;34m=\u001b[0m\u001b[0;36m100\u001b[0m\u001b[0;34m,\u001b[0m \u001b[0mnormed\u001b[0m\u001b[0;34m=\u001b[0m\u001b[0;36m1\u001b[0m\u001b[0;34m,\u001b[0m\u001b[0mfigsize\u001b[0m\u001b[0;34m=\u001b[0m\u001b[0;34m(\u001b[0m\u001b[0;36m15\u001b[0m\u001b[0;34m,\u001b[0m\u001b[0;36m8\u001b[0m\u001b[0;34m)\u001b[0m\u001b[0;34m)\u001b[0m\u001b[0;34m\u001b[0m\u001b[0;34m\u001b[0m\u001b[0m\n\u001b[0m",
            "\u001b[0;32m/usr/local/lib/python3.10/dist-packages/pandas/plotting/_core.py\u001b[0m in \u001b[0;36mhist_series\u001b[0;34m(self, by, ax, grid, xlabelsize, xrot, ylabelsize, yrot, figsize, bins, backend, legend, **kwargs)\u001b[0m\n\u001b[1;32m     97\u001b[0m     \"\"\"\n\u001b[1;32m     98\u001b[0m     \u001b[0mplot_backend\u001b[0m \u001b[0;34m=\u001b[0m \u001b[0m_get_plot_backend\u001b[0m\u001b[0;34m(\u001b[0m\u001b[0mbackend\u001b[0m\u001b[0;34m)\u001b[0m\u001b[0;34m\u001b[0m\u001b[0;34m\u001b[0m\u001b[0m\n\u001b[0;32m---> 99\u001b[0;31m     return plot_backend.hist_series(\n\u001b[0m\u001b[1;32m    100\u001b[0m         \u001b[0mself\u001b[0m\u001b[0;34m,\u001b[0m\u001b[0;34m\u001b[0m\u001b[0;34m\u001b[0m\u001b[0m\n\u001b[1;32m    101\u001b[0m         \u001b[0mby\u001b[0m\u001b[0;34m=\u001b[0m\u001b[0mby\u001b[0m\u001b[0;34m,\u001b[0m\u001b[0;34m\u001b[0m\u001b[0;34m\u001b[0m\u001b[0m\n",
            "\u001b[0;32m/usr/local/lib/python3.10/dist-packages/pandas/plotting/_matplotlib/hist.py\u001b[0m in \u001b[0;36mhist_series\u001b[0;34m(self, by, ax, grid, xlabelsize, xrot, ylabelsize, yrot, figsize, bins, legend, **kwds)\u001b[0m\n\u001b[1;32m    423\u001b[0m         \u001b[0;32mif\u001b[0m \u001b[0mlegend\u001b[0m\u001b[0;34m:\u001b[0m\u001b[0;34m\u001b[0m\u001b[0;34m\u001b[0m\u001b[0m\n\u001b[1;32m    424\u001b[0m             \u001b[0mkwds\u001b[0m\u001b[0;34m[\u001b[0m\u001b[0;34m\"label\"\u001b[0m\u001b[0;34m]\u001b[0m \u001b[0;34m=\u001b[0m \u001b[0mself\u001b[0m\u001b[0;34m.\u001b[0m\u001b[0mname\u001b[0m\u001b[0;34m\u001b[0m\u001b[0;34m\u001b[0m\u001b[0m\n\u001b[0;32m--> 425\u001b[0;31m         \u001b[0max\u001b[0m\u001b[0;34m.\u001b[0m\u001b[0mhist\u001b[0m\u001b[0;34m(\u001b[0m\u001b[0mvalues\u001b[0m\u001b[0;34m,\u001b[0m \u001b[0mbins\u001b[0m\u001b[0;34m=\u001b[0m\u001b[0mbins\u001b[0m\u001b[0;34m,\u001b[0m \u001b[0;34m**\u001b[0m\u001b[0mkwds\u001b[0m\u001b[0;34m)\u001b[0m\u001b[0;34m\u001b[0m\u001b[0;34m\u001b[0m\u001b[0m\n\u001b[0m\u001b[1;32m    426\u001b[0m         \u001b[0;32mif\u001b[0m \u001b[0mlegend\u001b[0m\u001b[0;34m:\u001b[0m\u001b[0;34m\u001b[0m\u001b[0;34m\u001b[0m\u001b[0m\n\u001b[1;32m    427\u001b[0m             \u001b[0max\u001b[0m\u001b[0;34m.\u001b[0m\u001b[0mlegend\u001b[0m\u001b[0;34m(\u001b[0m\u001b[0;34m)\u001b[0m\u001b[0;34m\u001b[0m\u001b[0;34m\u001b[0m\u001b[0m\n",
            "\u001b[0;32m/usr/local/lib/python3.10/dist-packages/matplotlib/__init__.py\u001b[0m in \u001b[0;36minner\u001b[0;34m(ax, data, *args, **kwargs)\u001b[0m\n\u001b[1;32m   1440\u001b[0m     \u001b[0;32mdef\u001b[0m \u001b[0minner\u001b[0m\u001b[0;34m(\u001b[0m\u001b[0max\u001b[0m\u001b[0;34m,\u001b[0m \u001b[0;34m*\u001b[0m\u001b[0margs\u001b[0m\u001b[0;34m,\u001b[0m \u001b[0mdata\u001b[0m\u001b[0;34m=\u001b[0m\u001b[0;32mNone\u001b[0m\u001b[0;34m,\u001b[0m \u001b[0;34m**\u001b[0m\u001b[0mkwargs\u001b[0m\u001b[0;34m)\u001b[0m\u001b[0;34m:\u001b[0m\u001b[0;34m\u001b[0m\u001b[0;34m\u001b[0m\u001b[0m\n\u001b[1;32m   1441\u001b[0m         \u001b[0;32mif\u001b[0m \u001b[0mdata\u001b[0m \u001b[0;32mis\u001b[0m \u001b[0;32mNone\u001b[0m\u001b[0;34m:\u001b[0m\u001b[0;34m\u001b[0m\u001b[0;34m\u001b[0m\u001b[0m\n\u001b[0;32m-> 1442\u001b[0;31m             \u001b[0;32mreturn\u001b[0m \u001b[0mfunc\u001b[0m\u001b[0;34m(\u001b[0m\u001b[0max\u001b[0m\u001b[0;34m,\u001b[0m \u001b[0;34m*\u001b[0m\u001b[0mmap\u001b[0m\u001b[0;34m(\u001b[0m\u001b[0msanitize_sequence\u001b[0m\u001b[0;34m,\u001b[0m \u001b[0margs\u001b[0m\u001b[0;34m)\u001b[0m\u001b[0;34m,\u001b[0m \u001b[0;34m**\u001b[0m\u001b[0mkwargs\u001b[0m\u001b[0;34m)\u001b[0m\u001b[0;34m\u001b[0m\u001b[0;34m\u001b[0m\u001b[0m\n\u001b[0m\u001b[1;32m   1443\u001b[0m \u001b[0;34m\u001b[0m\u001b[0m\n\u001b[1;32m   1444\u001b[0m         \u001b[0mbound\u001b[0m \u001b[0;34m=\u001b[0m \u001b[0mnew_sig\u001b[0m\u001b[0;34m.\u001b[0m\u001b[0mbind\u001b[0m\u001b[0;34m(\u001b[0m\u001b[0max\u001b[0m\u001b[0;34m,\u001b[0m \u001b[0;34m*\u001b[0m\u001b[0margs\u001b[0m\u001b[0;34m,\u001b[0m \u001b[0;34m**\u001b[0m\u001b[0mkwargs\u001b[0m\u001b[0;34m)\u001b[0m\u001b[0;34m\u001b[0m\u001b[0;34m\u001b[0m\u001b[0m\n",
            "\u001b[0;32m/usr/local/lib/python3.10/dist-packages/matplotlib/axes/_axes.py\u001b[0m in \u001b[0;36mhist\u001b[0;34m(self, x, bins, range, density, weights, cumulative, bottom, histtype, align, orientation, rwidth, log, color, label, stacked, **kwargs)\u001b[0m\n\u001b[1;32m   6941\u001b[0m             \u001b[0;32mif\u001b[0m \u001b[0mpatch\u001b[0m\u001b[0;34m:\u001b[0m\u001b[0;34m\u001b[0m\u001b[0;34m\u001b[0m\u001b[0m\n\u001b[1;32m   6942\u001b[0m                 \u001b[0mp\u001b[0m \u001b[0;34m=\u001b[0m \u001b[0mpatch\u001b[0m\u001b[0;34m[\u001b[0m\u001b[0;36m0\u001b[0m\u001b[0;34m]\u001b[0m\u001b[0;34m\u001b[0m\u001b[0;34m\u001b[0m\u001b[0m\n\u001b[0;32m-> 6943\u001b[0;31m                 \u001b[0mp\u001b[0m\u001b[0;34m.\u001b[0m\u001b[0m_internal_update\u001b[0m\u001b[0;34m(\u001b[0m\u001b[0mkwargs\u001b[0m\u001b[0;34m)\u001b[0m\u001b[0;34m\u001b[0m\u001b[0;34m\u001b[0m\u001b[0m\n\u001b[0m\u001b[1;32m   6944\u001b[0m                 \u001b[0;32mif\u001b[0m \u001b[0mlbl\u001b[0m \u001b[0;32mis\u001b[0m \u001b[0;32mnot\u001b[0m \u001b[0;32mNone\u001b[0m\u001b[0;34m:\u001b[0m\u001b[0;34m\u001b[0m\u001b[0;34m\u001b[0m\u001b[0m\n\u001b[1;32m   6945\u001b[0m                     \u001b[0mp\u001b[0m\u001b[0;34m.\u001b[0m\u001b[0mset_label\u001b[0m\u001b[0;34m(\u001b[0m\u001b[0mlbl\u001b[0m\u001b[0;34m)\u001b[0m\u001b[0;34m\u001b[0m\u001b[0;34m\u001b[0m\u001b[0m\n",
            "\u001b[0;32m/usr/local/lib/python3.10/dist-packages/matplotlib/artist.py\u001b[0m in \u001b[0;36m_internal_update\u001b[0;34m(self, kwargs)\u001b[0m\n\u001b[1;32m   1221\u001b[0m         \u001b[0mThe\u001b[0m \u001b[0mlack\u001b[0m \u001b[0mof\u001b[0m \u001b[0mprenormalization\u001b[0m \u001b[0;32mis\u001b[0m \u001b[0mto\u001b[0m \u001b[0mmaintain\u001b[0m \u001b[0mbackcompatibility\u001b[0m\u001b[0;34m.\u001b[0m\u001b[0;34m\u001b[0m\u001b[0;34m\u001b[0m\u001b[0m\n\u001b[1;32m   1222\u001b[0m         \"\"\"\n\u001b[0;32m-> 1223\u001b[0;31m         return self._update_props(\n\u001b[0m\u001b[1;32m   1224\u001b[0m             \u001b[0mkwargs\u001b[0m\u001b[0;34m,\u001b[0m \u001b[0;34m\"{cls.__name__}.set() got an unexpected keyword argument \"\u001b[0m\u001b[0;34m\u001b[0m\u001b[0;34m\u001b[0m\u001b[0m\n\u001b[1;32m   1225\u001b[0m             \"{prop_name!r}\")\n",
            "\u001b[0;32m/usr/local/lib/python3.10/dist-packages/matplotlib/artist.py\u001b[0m in \u001b[0;36m_update_props\u001b[0;34m(self, props, errfmt)\u001b[0m\n\u001b[1;32m   1195\u001b[0m                     \u001b[0mfunc\u001b[0m \u001b[0;34m=\u001b[0m \u001b[0mgetattr\u001b[0m\u001b[0;34m(\u001b[0m\u001b[0mself\u001b[0m\u001b[0;34m,\u001b[0m \u001b[0;34mf\"set_{k}\"\u001b[0m\u001b[0;34m,\u001b[0m \u001b[0;32mNone\u001b[0m\u001b[0;34m)\u001b[0m\u001b[0;34m\u001b[0m\u001b[0;34m\u001b[0m\u001b[0m\n\u001b[1;32m   1196\u001b[0m                     \u001b[0;32mif\u001b[0m \u001b[0;32mnot\u001b[0m \u001b[0mcallable\u001b[0m\u001b[0;34m(\u001b[0m\u001b[0mfunc\u001b[0m\u001b[0;34m)\u001b[0m\u001b[0;34m:\u001b[0m\u001b[0;34m\u001b[0m\u001b[0;34m\u001b[0m\u001b[0m\n\u001b[0;32m-> 1197\u001b[0;31m                         raise AttributeError(\n\u001b[0m\u001b[1;32m   1198\u001b[0m                             errfmt.format(cls=type(self), prop_name=k))\n\u001b[1;32m   1199\u001b[0m                     \u001b[0mret\u001b[0m\u001b[0;34m.\u001b[0m\u001b[0mappend\u001b[0m\u001b[0;34m(\u001b[0m\u001b[0mfunc\u001b[0m\u001b[0;34m(\u001b[0m\u001b[0mv\u001b[0m\u001b[0;34m)\u001b[0m\u001b[0;34m)\u001b[0m\u001b[0;34m\u001b[0m\u001b[0;34m\u001b[0m\u001b[0m\n",
            "\u001b[0;31mAttributeError\u001b[0m: Rectangle.set() got an unexpected keyword argument 'normed'"
          ]
        },
        {
          "output_type": "display_data",
          "data": {
            "text/plain": [
              "<Figure size 1500x800 with 1 Axes>"
            ],
            "image/png": "[encoded data removed]"
          },
          "metadata": {}
        }
      ]
    },
    {
      "cell_type": "code",
      "source": [
        "from numpy.random.mtrand import normal\n",
        "\n",
        "# Criando um gráfico que conttenha informações para a média população e para a amostra\n",
        "\n",
        "pop = pd.DataFrame(normal( 10, 5, size = 100000))\n",
        "pop['meanlist'] = meanlist\n",
        "pop[0].hist( bins = 500, color = 'cyan') # População\n",
        "pop['meanlist'].hist( bins = 500, color = 'red') # Amostra"
      ],
      "metadata": {
        "id": "718H0d8v0z9B",
        "outputId": "7d782c50-e12d-43f7-8bbd-15dea2e4aea5",
        "colab": {
          "base_uri": "https://localhost:8080/",
          "height": 450
        }
      },
      "execution_count": 16,
      "outputs": [
        {
          "output_type": "execute_result",
          "data": {
            "text/plain": [
              "<Axes: >"
            ]
          },
          "metadata": {},
          "execution_count": 16
        },
        {
          "output_type": "display_data",
          "data": {
            "text/plain": [
              "<Figure size 640x480 with 1 Axes>"
            ],
            "image/png": "[encoded data removed]"
          },
          "metadata": {}
        }
      ]
    },
    {
      "cell_type": "code",
      "source": [
        "# Demonstrando que, conforme almentamos o tamanho da amostra, ela converge para uma normal\n",
        "# Plotando um histograma para as médias e verificando como os gráficos se aproximam da normal\n",
        "\n",
        "sample_size = int(input())\n",
        "samplemeanlist = []\n",
        "apop =  pd.DataFrame([1, 0, 1, 0, 1])\n",
        "for t in range(10000):\n",
        "    sample = apop[0].sample(sample_size, replace=True)  # Pequeno tamanho de amostra\n",
        "    samplemeanlist.append(sample.mean())\n",
        "\n",
        "acollec = pd.DataFrame()\n",
        "acollec['meanlist'] = samplemeanlist\n",
        "acollec.hist(bins=100, normed=1,figsize=(15,8))"
      ],
      "metadata": {
        "id": "mxXrJSn3xx1Y"
      },
      "execution_count": null,
      "outputs": []
    },
    {
      "cell_type": "code",
      "source": [
        "# Pegando informações de aulas anteriores\n",
        "\n",
        "ms = pd.DataFrame.from_csv('../data/microsoft.csv')\n",
        "ms['logReturn'] = np.log(ms['Close'].shift(-1)) - np.log(ms['Close']) # Usando log return para calcular ganhos\n",
        "\n",
        "# Construindo um intervalo de confiânça de 95%\n",
        "\n",
        "sample_size = ms['logReturn'].shape[0]\n",
        "sample_mean = ms['logReturn'].mean()\n",
        "sample_std = ms['logReturn'].std(ddof=1) / sample_size**0.5 # Criando o desvio padrão de uma função qualquer para uma normal\n",
        "\n",
        "# Definindo os quaantis de 2,5% e 97,5%\n",
        "\n",
        "z_left = norm.ppf(0.025)\n",
        "z_right = norm.ppf(0.975)\n",
        "\n",
        "# Definindo os extremos do intervalo\n",
        "\n",
        "interval_left = sample_mean + z_left*sample_std\n",
        "interval_right = sample_mean + z_right*sample_std\n",
        "\n",
        "# Imprimindo uma mensagem\n",
        "\n",
        "print('O intervalo de confiânça de 95% para a média é ', (interval_left, interval_right))"
      ],
      "metadata": {
        "id": "DFVZiCBg8wnZ"
      },
      "execution_count": null,
      "outputs": []
    },
    {
      "cell_type": "code",
      "source": [
        "# Com as informações acima de importação de arquivo csv e logReturn\n",
        "# Plotando um gráfico de linha com logReturn e linha divisória entre lucro e prejuízo\n",
        "\n",
        "ms['logReturn'].plot(figsize=(20, 8))\n",
        "plt.axhline(0, color='red')\n",
        "plt.show()"
      ],
      "metadata": {
        "id": "iho8nE1HhBYJ"
      },
      "execution_count": null,
      "outputs": []
    },
    {
      "cell_type": "code",
      "source": [
        "# Calculando a média e desvio padrão para que possamos convergir a distribuição da amostra para uma t-student\n",
        "\n",
        "sample_mean = ms['logReturn'].mean()\n",
        "sample_std = ms['logReturn'].std(ddof=1)\n",
        "n = ms['logReturn'].shape[0] # Tamanho da amostra\n",
        "\n",
        "# Se o tamanho da amostra for suficientemente grande a distribuição t-student converge para a normal\n",
        "# Consideranto uma H0 com mu = 0(não há lucro)\n",
        "zhat = (sample_mean - 0)/(sample_std/n**0.5) # Normalizando a distribuição\n",
        "print(zhat)"
      ],
      "metadata": {
        "id": "uDrVDGwMn-hc"
      },
      "execution_count": null,
      "outputs": []
    },
    {
      "cell_type": "code",
      "source": [
        "# Nível de significância\n",
        "\n",
        "alpha = 0.05\n",
        "\n",
        "# Definindo os dois quantis e provando sua simetria\n",
        "\n",
        "zleft = norm.ppf(alpha/2, 0, 1)\n",
        "zright = -zleft  # z-distribution is symmetric\n",
        "print(zleft, zright)\n",
        "\n",
        "# Calculando a rejeição sem o valor-p\n",
        "\n",
        "print(f'Com um nível de confiança {alpha}, devemos rejeitar H0? {zhat>zright or zhat<zleft}')"
      ],
      "metadata": {
        "id": "k7VYQTqlvk6P"
      },
      "execution_count": null,
      "outputs": []
    },
    {
      "cell_type": "code",
      "source": [
        "# Fazendo o mesmo processo de forma unilateral\n",
        "\n",
        "sample_mean = ms['logReturn'].mean()\n",
        "sample_std = ms['logReturn'].std(ddof=1)\n",
        "n = ms['logReturn'].shape[0]\n",
        "\n",
        "# Usando mu = 0\n",
        "zhat = (sample_mean - 0)/(sample_std/n**0.5)\n",
        "print(zhat)\n",
        "\n",
        "alpha = 0.05\n",
        "\n",
        "# Definindo  nosso único quantil de interesse\n",
        "\n",
        "zright = norm.ppf(1-alpha, 0, 1)\n",
        "print(zright)\n",
        "\n",
        "# Calculando sem o uzo do valor p\n",
        "\n",
        "print(f'Com um nível de confiança {alpha}, devemos rejeitar H0? {zhat>zright}')"
      ],
      "metadata": {
        "id": "yRBmPbCBzLXR"
      },
      "execution_count": null,
      "outputs": []
    },
    {
      "cell_type": "code",
      "source": [
        "# Calculando o valor-p\n",
        "\n",
        "p = 1 - norm.cdf(zhat, 0, 1)\n",
        "print(p)\n",
        "\n",
        "# Vendo se existe compatibilidade entre o resultado do valor-p e os resultados anteriores\n",
        "\n",
        "print(f'Com um nível de confiança {alpha}, devemos rejeitar H0? {p < alpha}')"
      ],
      "metadata": {
        "id": "3ki6MTHe0U1_"
      },
      "execution_count": null,
      "outputs": []
    },
    {
      "cell_type": "code",
      "source": [
        "# Formas de calcular o valor-p para outros casos\n",
        "\n",
        "# Para H1 representando média diferente a H0\n",
        "\n",
        "p = 2(1-norm.cdf(np.abs(zhat), 0, 1))\n",
        "\n",
        "# Para H1 média maior ou igual a apresentada em H0\n",
        "\n",
        "p = 1-norm.cdf(zhat,0,1) # 1 - P(mu < 0), supondo H0: mu = 0\n",
        "\n",
        "# Para H1 média menor ou igual a apresentada em H0\n",
        "\n",
        "p = norm.cdf(zhat,0,1)\n",
        "\n"
      ],
      "metadata": {
        "id": "UVTz70qg1dMx"
      },
      "execution_count": null,
      "outputs": []
    }
  ]
}